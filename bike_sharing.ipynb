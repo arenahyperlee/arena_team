{
 "cells": [
  {
   "cell_type": "code",
   "execution_count": 72,
   "metadata": {
    "collapsed": false,
    "deletable": true,
    "editable": true
   },
   "outputs": [],
   "source": [
    "import pandas as pd\n",
    "import numpy as np\n",
    "from sklearn.metrics import mean_squared_error, make_scorer\n",
    "from xgboost import XGBRegressor\n",
    "from sklearn.ensemble import RandomForestRegressor, GradientBoostingRegressor\n",
    "from sklearn.linear_model import LinearRegression\n",
    "from sklearn.neighbors import KNeighborsRegressor\n",
    "from sklearn import pipeline, preprocessing, metrics\n",
    "import matplotlib.pyplot as plt\n",
    "%matplotlib inline\n",
    "from sklearn.model_selection import train_test_split,KFold, cross_val_score, GridSearchCV\n",
    "\n",
    "from heamy.dataset import Dataset\n",
    "from heamy.estimator import Regressor, Classifier\n",
    "from heamy.pipeline import ModelsPipeline\n",
    "\n",
    "plt.rcParams['figure.figsize'] = 10, 5"
   ]
  },
  {
   "cell_type": "code",
   "execution_count": null,
   "metadata": {
    "collapsed": true,
    "deletable": true,
    "editable": true
   },
   "outputs": [],
   "source": [
    "def rmsle(y_pred, y_true):\n",
    "    error = np.sqrt(np.square(np.log(y_pred + 1) - np.log(y_true + 1)).mean())\n",
    "    return error\n",
    "\n",
    "rmsle_scorer = make_scorer(rmsle, greater_is_better=False)"
   ]
  },
  {
   "cell_type": "code",
   "execution_count": 55,
   "metadata": {
    "collapsed": true,
    "deletable": true,
    "editable": true
   },
   "outputs": [],
   "source": [
    "train = pd.read_csv('../data/bike_sharing_train.csv')\n",
    "test = pd.read_csv('../data/bike_sharing_test.csv')"
   ]
  },
  {
   "cell_type": "code",
   "execution_count": 56,
   "metadata": {
    "collapsed": true,
    "deletable": true,
    "editable": true
   },
   "outputs": [],
   "source": [
    "full_df = pd.concat([train, test])\n",
    "train_df_idx = train.shape[0]"
   ]
  },
  {
   "cell_type": "code",
   "execution_count": 57,
   "metadata": {
    "collapsed": true,
    "deletable": true,
    "editable": true
   },
   "outputs": [],
   "source": [
    "dt = pd.DatetimeIndex(full_df.datetime)"
   ]
  },
  {
   "cell_type": "code",
   "execution_count": 58,
   "metadata": {
    "collapsed": true,
    "deletable": true,
    "editable": true
   },
   "outputs": [],
   "source": [
    "full_df['hour'] = dt.hour\n",
    "full_df['day'] = dt.day\n",
    "full_df['month'] = dt.month\n",
    "full_df['year'] = dt.year\n",
    "full_df['dayOfweek'] = dt.dayofweek\n",
    "full_df['dayOfyear'] = dt.dayofyear\n",
    "full_df['weekOfyear'] = dt.weekofyear\n",
    "\n",
    "for c in train.columns[-3:]:\n",
    "    full_df['{}_log'.format(c)] = np.log(full_df[c]+1)"
   ]
  },
  {
   "cell_type": "code",
   "execution_count": 59,
   "metadata": {
    "collapsed": true,
    "deletable": true,
    "editable": true
   },
   "outputs": [],
   "source": [
    "def select_train_data():\n",
    "    data = full_df.iloc[:train_df_idx].copy()\n",
    "    return data\n",
    "\n",
    "def select_test_data():\n",
    "    data = full_df.iloc[train_df_idx:].copy()\n",
    "    return data"
   ]
  },
  {
   "cell_type": "code",
   "execution_count": 60,
   "metadata": {
    "collapsed": false,
    "deletable": true,
    "editable": true
   },
   "outputs": [],
   "source": [
    "train_df = select_train_data()"
   ]
  },
  {
   "cell_type": "code",
   "execution_count": 62,
   "metadata": {
    "collapsed": false,
    "deletable": true,
    "editable": true
   },
   "outputs": [
    {
     "data": {
      "image/png": "[encoded data removed]",
      "text/plain": [
       "<matplotlib.figure.Figure at 0x7f9b5ff2a2e8>"
      ]
     },
     "metadata": {},
     "output_type": "display_data"
    }
   ],
   "source": [
    "train_df.groupby(['hour', 'workingday'])['count'].agg('sum').unstack().plot(kind='bar');"
   ]
  },
  {
   "cell_type": "code",
   "execution_count": 63,
   "metadata": {
    "collapsed": true,
    "deletable": true,
    "editable": true
   },
   "outputs": [],
   "source": [
    "def vertex(x):\n",
    "    if (x['workingday'] == 1 and (6 <= x['hour']<=9 or 16<=x['hour']<=23)) \\\n",
    "        or (x['workingday'] == 0 and 10<=x['hour']<=19):\n",
    "        return 1\n",
    "    return 0"
   ]
  },
  {
   "cell_type": "code",
   "execution_count": 64,
   "metadata": {
    "collapsed": false,
    "deletable": true,
    "editable": true
   },
   "outputs": [],
   "source": [
    "full_df['vertex'] = full_df[['hour', 'workingday']].apply(vertex, axis=1)"
   ]
  },
  {
   "cell_type": "code",
   "execution_count": 65,
   "metadata": {
    "collapsed": false,
    "deletable": true,
    "editable": true
   },
   "outputs": [],
   "source": [
    "season_count = train_df.groupby('season')[['count']].sum()\n",
    "season_count.columns =['season_count']\n",
    "full_df = full_df.join(season_count, ['season'])"
   ]
  },
  {
   "cell_type": "code",
   "execution_count": 83,
   "metadata": {
    "collapsed": true,
    "deletable": true,
    "editable": true
   },
   "outputs": [],
   "source": [
    "def prep_data(data, features):\n",
    "    X = data[features].as_matrix()\n",
    "    y_reg = data['registered_log'].as_matrix()\n",
    "    y_cas = data['casual_log'].as_matrix()\n",
    "    return X, y_reg, y_cas"
   ]
  },
  {
   "cell_type": "code",
   "execution_count": 84,
   "metadata": {
    "collapsed": true,
    "deletable": true,
    "editable": true
   },
   "outputs": [],
   "source": [
    "def cv_split(data, split=15):\n",
    "    train = data[data['day'] <= split]\n",
    "    test = data[data['day'] > split]\n",
    "    return train, val"
   ]
  },
  {
   "cell_type": "code",
   "execution_count": 128,
   "metadata": {
    "collapsed": true,
    "deletable": true,
    "editable": true
   },
   "outputs": [],
   "source": [
    "def cv_pred(model, features):\n",
    "    data = select_train_data()\n",
    "    train, val = cv_split(data)\n",
    "    X_train, y_train_reg, y_train_cas = prep_data(train, features)\n",
    "    X_val, y_val_reg, y_val_cas = prep_data(val, features)\n",
    "\n",
    "    model_reg = model.fit(X_train, y_train_reg)\n",
    "    y_pred_reg = np.exp(model_reg.predict(X_val)) - 1\n",
    "\n",
    "    model_cas = model.fit(X_train, y_train_cas)\n",
    "    y_pred_cas = np.exp(model_cas.predict(X_val)) - 1\n",
    "\n",
    "    y_pred_total = np.round(y_pred_reg + y_pred_cas)\n",
    "    y_pred_total[y_pred_total < 0] = 0\n",
    "\n",
    "    y_val_total = np.exp(y_val_reg) + np.exp(y_val_cas) - 2\n",
    "\n",
    "    error = rmsle(y_pred_total, y_val_total)\n",
    "    return (y_pred_total, y_val_total, error)"
   ]
  },
  {
   "cell_type": "code",
   "execution_count": 112,
   "metadata": {
    "collapsed": true,
    "deletable": true,
    "editable": true
   },
   "outputs": [],
   "source": [
    "rf_params = {\n",
    "             'max_depth': [1, 5, 10, 15, 20],\n",
    "             'min_samples_split': [2, 5, 7],\n",
    "             'min_samples_leaf': [1, 2, 3, 5, 7]\n",
    "            }\n",
    "\n",
    "boost_params = {\n",
    "                'n_estimators': [100, 150, 300],\n",
    "                'max_depth': [1, 3, 5, 7],\n",
    "                'learning_rate': [0.05, 0.1, 0.5],\n",
    "                'subsample': [0.5, 0.7, 0.8, 0.9, 0.95, 1]\n",
    "               }\n",
    "\n",
    "features = ['atemp', 'holiday', 'humidity', 'season', 'temp', 'weather', 'windspeed',\n",
    "            'workingday', 'hour', 'day', 'month', 'year', 'dayOfweek', 'dayOfyear',\n",
    "            'weekOfyear', 'vertex', 'season_count']"
   ]
  },
  {
   "cell_type": "code",
   "execution_count": 121,
   "metadata": {
    "collapsed": false,
    "deletable": true,
    "editable": true
   },
   "outputs": [
    {
     "name": "stdout",
     "output_type": "stream",
     "text": [
      "0.86250513627\n",
      "0.472697161919\n",
      "0.472590511748\n",
      "0.361344739518\n",
      "0.3607578984\n",
      "0.355328271387\n",
      "0.354332233099\n",
      "0.349092814011\n",
      "0.343494872491\n",
      "0.342821583424\n",
      "0.342070260236\n",
      "0.342052504064\n"
     ]
    }
   ],
   "source": [
    "current_params = {}\n",
    "best_params_rf = {}\n",
    "initial_error = np.inf\n",
    "best_model = None\n",
    "for m_d in rf_params['max_depth']:\n",
    "    for m_s_s in rf_params['min_samples_split']:\n",
    "        for m_s_l in rf_params['min_samples_leaf']:\n",
    "            current_params['max_depth']= m_d\n",
    "            current_params['min_samples_split'] = m_s_s\n",
    "            current_params['min_samples_leaf'] = m_s_l\n",
    "            rf = RandomForestRegressor(**current_params,random_state=1)\n",
    "            _, _, error = cv_pred(rf, features)\n",
    "            if error < initial_error:\n",
    "                initial_error = error\n",
    "                best_model = rf\n",
    "                best_params['max_depth']= m_d\n",
    "                best_params['min_samples_split'] = m_s_s\n",
    "                best_params['min_samples_leaf'] = m_s_l\n",
    "                print(error)"
   ]
  },
  {
   "cell_type": "code",
   "execution_count": 122,
   "metadata": {
    "collapsed": false,
    "deletable": true,
    "editable": true
   },
   "outputs": [
    {
     "name": "stdout",
     "output_type": "stream",
     "text": [
      "0.698394665286\n",
      "0.593364305101\n",
      "0.516663261083\n",
      "0.511983840543\n",
      "0.510378406161\n",
      "0.409264571847\n",
      "0.345404295029\n",
      "0.344844814176\n",
      "0.332587370644\n",
      "0.325370033276\n",
      "0.311361675754\n",
      "0.30955965757\n",
      "0.307928364599\n",
      "0.305514437789\n"
     ]
    }
   ],
   "source": [
    "current_params = {}\n",
    "best_params_boost = {}\n",
    "initial_error = np.inf\n",
    "best_model = None\n",
    "for n_e in boost_params['n_estimators']:\n",
    "    for m_d in boost_params['max_depth']:\n",
    "        for lr in boost_params['learning_rate']:\n",
    "            for sub in boost_params['subsample']:\n",
    "                current_params['n_estimators'] = n_e\n",
    "                current_params['max_depth']= m_d\n",
    "                current_params['learning_rate'] = lr\n",
    "                current_params['subsample'] = sub\n",
    "                boost = XGBRegressor(**current_params, seed=1)\n",
    "                _, _, error = cv_pred(boost, features)\n",
    "                if error < initial_error:\n",
    "                    initial_error = error\n",
    "                    best_model = boost\n",
    "                    best_params['n_estimators'] = n_e\n",
    "                    best_params['max_depth']= m_d\n",
    "                    best_params['learning_rate'] = lr\n",
    "                    best_params['subsample'] = sub\n",
    "                    print(error)"
   ]
  },
  {
   "cell_type": "code",
   "execution_count": 123,
   "metadata": {
    "collapsed": true,
    "deletable": true,
    "editable": true
   },
   "outputs": [],
   "source": [
    "def final_pred(model, features):\n",
    "\n",
    "    df_train = select_train_data()\n",
    "    df_test = select_test_data()\n",
    "    \n",
    "    X_train = df_train[features].as_matrix()\n",
    "    y_train_cas = df_train['casual_log'].as_matrix()\n",
    "    y_train_reg = df_train['registered_log'].as_matrix()\n",
    "\n",
    "    X_test = df_test[features].as_matrix()\n",
    "    casual_model = model.fit(X_train, y_train_cas)\n",
    "    y_pred_cas = casual_model.predict(X_test)\n",
    "    y_pred_cas = np.exp(y_pred_cas) - 1\n",
    "    \n",
    "    registered_model = model.fit(X_train, y_train_reg)\n",
    "    y_pred_reg = registered_model.predict(X_test)\n",
    "    y_pred_reg = np.exp(y_pred_reg) - 1\n",
    "    \n",
    "    y_pred_total = y_pred_cas + y_pred_reg\n",
    "    \n",
    "    return y_pred_total"
   ]
  },
  {
   "cell_type": "code",
   "execution_count": 124,
   "metadata": {
    "collapsed": true,
    "deletable": true,
    "editable": true
   },
   "outputs": [],
   "source": [
    "rf = RandomForestRegressor(**best_params_rf)\n",
    "xgb = XGBRegressor(**best_params_boost)"
   ]
  },
  {
   "cell_type": "code",
   "execution_count": 130,
   "metadata": {
    "collapsed": false,
    "deletable": true,
    "editable": true
   },
   "outputs": [],
   "source": [
    "rf_pred, y_val, _ = cv_pred(rf, features)\n",
    "xgb_pred, y_val, _ = cv_pred(xgb, features)"
   ]
  },
  {
   "cell_type": "code",
   "execution_count": 142,
   "metadata": {
    "collapsed": false,
    "deletable": true,
    "editable": true
   },
   "outputs": [
    {
     "data": {
      "text/plain": [
       "[(0.3283521159877581, 0.5),\n",
       " (0.32892237551712367, 0.59999999999999998),\n",
       " (0.32942530486323296, 0.40000000000000002),\n",
       " (0.33115111905012945, 0.70000000000000007),\n",
       " (0.33214187038447174, 0.30000000000000004),\n",
       " (0.33507108768199473, 0.80000000000000004),\n",
       " (0.33651694119297987, 0.20000000000000001),\n",
       " (0.34073944684782331, 0.90000000000000002),\n",
       " (0.34258391570184477, 0.10000000000000001)]"
      ]
     },
     "execution_count": 142,
     "metadata": {},
     "output_type": "execute_result"
    }
   ],
   "source": [
    "errors = []\n",
    "for alpha in np.linspace(0.1, 0.9, 9):\n",
    "    y_pred = rf_pred*alpha + xgb_pred*(1-alpha)\n",
    "    error = rmsle(y_pred, y_val)\n",
    "    errors.append((error, alpha))\n",
    "errs_srtd = sorted(errors, key=lambda x:x[0], reverse=False)\n",
    "errs_srtd"
   ]
  },
  {
   "cell_type": "code",
   "execution_count": 143,
   "metadata": {
    "collapsed": false,
    "deletable": true,
    "editable": true
   },
   "outputs": [],
   "source": [
    "alpha = errs_srtd[0][1]\n",
    "rf_pred = final_pred(rf, features)\n",
    "xgb_pred = final_pred(xgb, features)\n",
    "y_pred = rf_pred*alpha + xgb_pred*(1-alpha)"
   ]
  },
  {
   "cell_type": "code",
   "execution_count": 145,
   "metadata": {
    "collapsed": false,
    "deletable": true,
    "editable": true
   },
   "outputs": [],
   "source": [
    "df_test = select_test_data()\n",
    "df_test['count'] = y_pred\n",
    "final_df = df_test[['datetime', 'count']].copy()\n",
    "final_df.to_csv('submit_24.csv', index=False)"
   ]
  }
 ],
 "metadata": {
  "kernelspec": {
   "display_name": "Python 3",
   "language": "python",
   "name": "python3"
  },
  "language_info": {
   "codemirror_mode": {
    "name": "ipython",
    "version": 3
   },
   "file_extension": ".py",
   "mimetype": "text/x-python",
   "name": "python",
   "nbconvert_exporter": "python",
   "pygments_lexer": "ipython3",
   "version": "3.5.2"
  }
 },
 "nbformat": 4,
 "nbformat_minor": 2
}
