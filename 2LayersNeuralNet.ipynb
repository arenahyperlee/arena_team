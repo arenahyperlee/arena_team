{
 "cells": [
  {
   "cell_type": "code",
   "execution_count": 1,
   "metadata": {
    "collapsed": false
   },
   "outputs": [
    {
     "name": "stderr",
     "output_type": "stream",
     "text": [
      "Using TensorFlow backend.\n"
     ]
    }
   ],
   "source": [
    "import numpy as np\n",
    "import keras\n",
    "import matplotlib.pyplot as plt\n",
    "%matplotlib inline"
   ]
  },
  {
   "cell_type": "code",
   "execution_count": 28,
   "metadata": {
    "collapsed": false
   },
   "outputs": [],
   "source": [
    "class NeuralNet:\n",
    "    \n",
    "    def __init__(self, input_size, hidden_size, output_size, std=1e-4):\n",
    "        \n",
    "        self.params = {}\n",
    "        self.params['W1'] = np.random.randn(input_size, hidden_size)*std\n",
    "        self.params['b1'] = np.zeros(hidden_size)\n",
    "        self.params['W2'] = np.random.randn(hidden_size, output_size)*std\n",
    "        self.params['b2'] = np.zeros(output_size)\n",
    "        \n",
    "    def loss(self, X, y, reg=0.01):\n",
    "        \n",
    "        W1, b1 = self.params['W1'], self.params['b1']\n",
    "        W2, b2 = self.params['W2'], self.params['b2']\n",
    "        \n",
    "        N, D = X.shape\n",
    "        \n",
    "        \n",
    "        hidden_scores = np.maximum(0, np.dot(X, W1) + b1)\n",
    "        scores = np.dot(hidden_scores, W2) + b2\n",
    "        \n",
    "        \n",
    "        loss = np.sum(-scores[range(N), y] + np.log(np.sum(np.exp(scores), axis=1)))\n",
    "        loss /= N\n",
    "        loss += 0.5*reg*np.sum(W1*W1) + 0.5*reg*np.sum(W2*W2)\n",
    "        \n",
    "        \n",
    "        grads = {}\n",
    "        dprobs = np.exp(scores)/np.sum(np.exp(scores), axis=1, keepdims=True)\n",
    "        dprobs[range(N),y] -= 1\n",
    "        dprobs /= N\n",
    "        \n",
    "\n",
    "        grads['W2'] = np.dot(hidden_scores.T, dprobs)\n",
    "        grads['b2'] = np.sum(dprobs, axis=0)\n",
    "        \n",
    "        dhidden_scores = np.dot(dprobs, W2.T)\n",
    "        dhidden_scores[hidden_scores <= 0] = 0\n",
    "        \n",
    "        grads['W1'] = np.dot(X.T, dhidden_scores)\n",
    "        grads['b1'] = np.sum(dhidden_scores, axis=0)\n",
    "        \n",
    "        \n",
    "        grads['W1'] += reg*W1\n",
    "        grads['W2'] += reg*W2\n",
    "        \n",
    "        return loss, grads\n",
    "        \n",
    "        \n",
    "    def train(self, X, y, X_val, y_val, learning_rate=1e-3,\n",
    "              learning_rate_decay=0.95, reg=0.01, epochs=100,\n",
    "              batch_size=128, verbose=True):\n",
    "        \n",
    "        N = X.shape[0]\n",
    "        iters_per_epoch = int(N/batch_size)\n",
    "        \n",
    "        loss_history = []\n",
    "        train_acc_history = []\n",
    "        val_acc_history = []\n",
    "        \n",
    "        \n",
    "        for i in range(epochs):\n",
    "            idx = np.random.choice(N, batch_size, replace=True)\n",
    "            X_batch = X[idx]\n",
    "            y_batch = y[idx]\n",
    "            \n",
    "            loss, grads = self.loss(X_batch, y_batch, reg=reg)\n",
    "            loss_history.append(loss)\n",
    "            \n",
    "            for param in self.params:\n",
    "                self.params[param] -= learning_rate*grads[param]\n",
    "                \n",
    "            if verbose and i%100==0:\n",
    "                print('Iteration {}/{} loss {}'.format(i, epochs, loss))\n",
    "                \n",
    "                \n",
    "            if i%iters_per_epoch==0:\n",
    "                learning_rate *= learning_rate_decay\n",
    "                train_acc = np.mean(self.predict(X_batch)==y_batch)\n",
    "                val_acc = np.mean(self.predict(X_val)==y_val)\n",
    "                train_acc_history.append(train_acc)\n",
    "                val_acc_history.append(val_acc)\n",
    "                \n",
    "                \n",
    "        return {'loss_history':loss_history,\n",
    "                'train_acc_history':train_acc_history,\n",
    "                'val_acc_history':val_acc_history\n",
    "               }\n",
    "\n",
    "            \n",
    "            \n",
    "    def predict(self, X):\n",
    "        \n",
    "        W1, b1 = self.params['W1'], self.params['b1']\n",
    "        W2, b2 = self.params['W2'], self.params['b2']\n",
    "        hidden_scores = np.maximum(0, np.dot(X, W1)+b1)\n",
    "        scores = np.dot(hidden_scores, W2) + b2\n",
    "        y_pred = np.argmax(scores, axis=1)\n",
    "        \n",
    "\n",
    "        return y_pred\n",
    "\n"
   ]
  },
  {
   "cell_type": "code",
   "execution_count": 18,
   "metadata": {
    "collapsed": true
   },
   "outputs": [],
   "source": [
    "def load_data(num_training=49000, num_validation=1000, num_test=1000):\n",
    "    (X_train, y_train), (X_test, y_test) = keras.datasets.cifar10.load_data()\n",
    "    X_train = X_train.astype('float')\n",
    "    X_test = X_test.astype('float')\n",
    "    mask = range(num_training, num_training + num_validation)\n",
    "    X_val = X_train[mask]\n",
    "    y_val = y_train[mask]\n",
    "    mask = range(num_training)\n",
    "    X_train = X_train[mask]\n",
    "    y_train = y_train[mask]\n",
    "    mask = range(num_test)\n",
    "    X_test = X_test[mask]\n",
    "    y_test = y_test[mask]\n",
    "\n",
    "    mean_image = np.mean(X_train, axis=0)\n",
    "    X_train -= mean_image\n",
    "    X_val -= mean_image\n",
    "    X_test -= mean_image\n",
    "\n",
    "    X_train = X_train.reshape(num_training, -1)\n",
    "    X_val = X_val.reshape(num_validation, -1)\n",
    "    X_test = X_test.reshape(num_test, -1)\n",
    "    y_train = y_train.reshape(y_train.shape[0])\n",
    "    y_test = y_test.reshape(y_test.shape[0])\n",
    "    y_val = y_val.reshape(y_val.shape[0])\n",
    "    return X_train, y_train, X_val, y_val, X_test, y_test"
   ]
  },
  {
   "cell_type": "code",
   "execution_count": 19,
   "metadata": {
    "collapsed": true
   },
   "outputs": [],
   "source": [
    "X_train, y_train, X_val, y_val, X_test, y_test = load_data()"
   ]
  },
  {
   "cell_type": "code",
   "execution_count": 29,
   "metadata": {
    "collapsed": false
   },
   "outputs": [
    {
     "name": "stdout",
     "output_type": "stream",
     "text": [
      "Iteration 0/1000 loss 2.3025735695823273\n",
      "Iteration 100/1000 loss 1.880426447891901\n",
      "Iteration 200/1000 loss 1.7571692047009884\n",
      "Iteration 300/1000 loss 1.5732094381777444\n",
      "Iteration 400/1000 loss 1.6970438771954541\n",
      "Iteration 500/1000 loss 1.5219457627568698\n",
      "Iteration 600/1000 loss 1.4385580946697218\n",
      "Iteration 700/1000 loss 1.5612104042961639\n",
      "Iteration 800/1000 loss 1.5378591649912814\n",
      "Iteration 900/1000 loss 1.5126038600412812\n",
      "Val_acc: 0.48\n"
     ]
    }
   ],
   "source": [
    "input_size = X_train[0].size\n",
    "hidden_size = 70\n",
    "num_classes = np.unique(y_train).size\n",
    "nnet = NeuralNet(input_size, hidden_size, num_classes)\n",
    "\n",
    "stats = nnet.train(X_train, y_train, X_val, y_val, \n",
    "                  epochs=1000, batch_size=256,\n",
    "                  learning_rate=1e-3, verbose=True)\n",
    "val_acc = np.mean(nnet.predict(X_val)==y_val)\n",
    "print('Val_acc:', val_acc)"
   ]
  },
  {
   "cell_type": "code",
   "execution_count": 32,
   "metadata": {
    "collapsed": false
   },
   "outputs": [
    {
     "data": {
      "text/plain": [
       "dict_keys(['val_acc_history', 'train_acc_history', 'loss_history'])"
      ]
     },
     "execution_count": 32,
     "metadata": {},
     "output_type": "execute_result"
    }
   ],
   "source": [
    "stats.keys()"
   ]
  },
  {
   "cell_type": "code",
   "execution_count": 33,
   "metadata": {
    "collapsed": false
   },
   "outputs": [
    {
     "data": {
      "text/plain": [
       "[<matplotlib.lines.Line2D at 0x112fa1f98>]"
      ]
     },
     "execution_count": 33,
     "metadata": {},
     "output_type": "execute_result"
    },
    {
     "data": {
      "image/png": "[encoded data removed]",
      "text/plain": [
       "<matplotlib.figure.Figure at 0x110656eb8>"
      ]
     },
     "metadata": {},
     "output_type": "display_data"
    }
   ],
   "source": [
    "plt.plot(stats['val_acc_history'])"
   ]
  },
  {
   "cell_type": "code",
   "execution_count": 31,
   "metadata": {
    "collapsed": false
   },
   "outputs": [
    {
     "data": {
      "image/png": "[encoded data removed]",
      "text/plain": [
       "<matplotlib.figure.Figure at 0x1106567f0>"
      ]
     },
     "metadata": {},
     "output_type": "display_data"
    }
   ],
   "source": [
    "plt.plot(stats['loss_history'])\n",
    "plt.xlabel('iteration')\n",
    "plt.ylabel('training loss')\n",
    "plt.title('Training Loss history')\n",
    "plt.show()"
   ]
  },
  {
   "cell_type": "code",
   "execution_count": 36,
   "metadata": {
    "collapsed": false
   },
   "outputs": [
    {
     "name": "stdout",
     "output_type": "stream",
     "text": [
      "Iteration 0/1500 loss 2.302732043242531\n",
      "Iteration 100/1500 loss 2.3027030422210353\n",
      "Iteration 200/1500 loss 2.3026350828296875\n",
      "Iteration 300/1500 loss 2.302600823101799\n",
      "Iteration 400/1500 loss 2.30259201599773\n",
      "Iteration 500/1500 loss 2.302462590063405\n",
      "Iteration 600/1500 loss 2.302364300607491\n",
      "Iteration 700/1500 loss 2.3022551352266944\n",
      "Iteration 800/1500 loss 2.302181505973314\n",
      "Iteration 900/1500 loss 2.302176690679615\n",
      "Iteration 1000/1500 loss 2.302131930695874\n",
      "Iteration 1100/1500 loss 2.301635737557951\n",
      "Iteration 1200/1500 loss 2.3007895772819897\n",
      "Iteration 1300/1500 loss 2.301417965608663\n",
      "Iteration 1400/1500 loss 2.300425116655862\n",
      "Iteration 0/1500 loss 2.3029040703615618\n",
      "Iteration 100/1500 loss 2.302789112477718\n",
      "Iteration 200/1500 loss 2.302686782613512\n",
      "Iteration 300/1500 loss 2.3025676901178556\n",
      "Iteration 400/1500 loss 2.30261558309209\n",
      "Iteration 500/1500 loss 2.3023371371751975\n",
      "Iteration 600/1500 loss 2.3023421637668564\n",
      "Iteration 700/1500 loss 2.3020997721062373\n",
      "Iteration 800/1500 loss 2.302026317342485\n",
      "Iteration 900/1500 loss 2.3016395492455404\n",
      "Iteration 1000/1500 loss 2.301497596632991\n",
      "Iteration 1100/1500 loss 2.3014007576542497\n",
      "Iteration 1200/1500 loss 2.301180819210943\n",
      "Iteration 1300/1500 loss 2.3000431568823183\n",
      "Iteration 1400/1500 loss 2.2997806831148333\n",
      "Iteration 0/1500 loss 2.4561860422721593\n",
      "Iteration 100/1500 loss 2.4295217259539563\n",
      "Iteration 200/1500 loss 2.4075572659915627\n",
      "Iteration 300/1500 loss 2.3894018038343594\n",
      "Iteration 400/1500 loss 2.374492217867321\n",
      "Iteration 500/1500 loss 2.362583949376342\n",
      "Iteration 600/1500 loss 2.352656924513751\n",
      "Iteration 700/1500 loss 2.3443519979810237\n",
      "Iteration 800/1500 loss 2.3375624259697707\n",
      "Iteration 900/1500 loss 2.332048529436021\n",
      "Iteration 1000/1500 loss 2.3274291313425657\n",
      "Iteration 1100/1500 loss 2.323478977920465\n",
      "Iteration 1200/1500 loss 2.3202699124927673\n",
      "Iteration 1300/1500 loss 2.3176269889772345\n",
      "Iteration 1400/1500 loss 2.3153384386741656\n",
      "Iteration 0/1500 loss 2.610323594782473\n",
      "Iteration 100/1500 loss 2.55693844705764\n",
      "Iteration 200/1500 loss 2.5128739388130517\n",
      "Iteration 300/1500 loss 2.4764283750098537\n",
      "Iteration 400/1500 loss 2.446555088973518\n",
      "Iteration 500/1500 loss 2.4227642078081915\n",
      "Iteration 600/1500 loss 2.40292165759247\n",
      "Iteration 700/1500 loss 2.3862634017707443\n",
      "Iteration 800/1500 loss 2.3727456177667348\n",
      "Iteration 900/1500 loss 2.3616373732439113\n",
      "Iteration 1000/1500 loss 2.3522753736413886\n",
      "Iteration 1100/1500 loss 2.344497188267073\n",
      "Iteration 1200/1500 loss 2.338090508063742\n",
      "Iteration 1300/1500 loss 2.3326606389449527\n",
      "Iteration 1400/1500 loss 2.3281239380095484\n",
      "Iteration 0/1500 loss 3.8373595013775903\n",
      "Iteration 100/1500 loss 2.5298409728503026\n",
      "Iteration 200/1500 loss 2.336270053913626\n",
      "Iteration 300/1500 loss 2.3075789255973502\n",
      "Iteration 400/1500 loss 2.303337077502663\n",
      "Iteration 500/1500 loss 2.3027088850071533\n",
      "Iteration 600/1500 loss 2.3026070916237793\n",
      "Iteration 700/1500 loss 2.3025879690314808\n",
      "Iteration 800/1500 loss 2.3025852787212036\n",
      "Iteration 900/1500 loss 2.302586075692279\n",
      "Iteration 1000/1500 loss 2.3025849504479083\n",
      "Iteration 1100/1500 loss 2.3025854990550654\n",
      "Iteration 1200/1500 loss 2.302586240091711\n",
      "Iteration 1300/1500 loss 2.3025851390731638\n",
      "Iteration 1400/1500 loss 2.3025851180822334\n",
      "Iteration 0/1500 loss 5.3883447234945745\n",
      "Iteration 100/1500 loss 2.759485590388419\n",
      "Iteration 200/1500 loss 2.3703067723396187\n",
      "Iteration 300/1500 loss 2.3126240556737336\n",
      "Iteration 400/1500 loss 2.3040978807904486\n",
      "Iteration 500/1500 loss 2.3028331737828758\n",
      "Iteration 600/1500 loss 2.3026250452603425\n",
      "Iteration 700/1500 loss 2.3025915726549284\n",
      "Iteration 800/1500 loss 2.3025860160449323\n",
      "Iteration 900/1500 loss 2.302585215884374\n",
      "Iteration 1000/1500 loss 2.3025846607748957\n",
      "Iteration 1100/1500 loss 2.302585214540748\n",
      "Iteration 1200/1500 loss 2.302585483887058\n",
      "Iteration 1300/1500 loss 2.302585956513906\n",
      "Iteration 1400/1500 loss 2.3025855052116984\n",
      "Iteration 0/1500 loss 2.3027130880500106\n",
      "Iteration 100/1500 loss 2.3027070983037152\n",
      "Iteration 200/1500 loss 2.3027182484628588\n",
      "Iteration 300/1500 loss 2.3027177510802157\n",
      "Iteration 400/1500 loss 2.3027290756739416\n",
      "Iteration 500/1500 loss 2.3026788935280833\n",
      "Iteration 600/1500 loss 2.3027259091485965\n",
      "Iteration 700/1500 loss 2.3026857738543063\n",
      "Iteration 800/1500 loss 2.3027087189010507\n",
      "Iteration 900/1500 loss 2.302721115499802\n",
      "Iteration 1000/1500 loss 2.302713242241395\n",
      "Iteration 1100/1500 loss 2.302747689956445\n",
      "Iteration 1200/1500 loss 2.3026876192271803\n",
      "Iteration 1300/1500 loss 2.302721469035321\n",
      "Iteration 1400/1500 loss 2.302719498044463\n",
      "Iteration 0/1500 loss 2.302910607517761\n",
      "Iteration 100/1500 loss 2.3028747905190516\n",
      "Iteration 200/1500 loss 2.3028888664937788\n",
      "Iteration 300/1500 loss 2.302865698369475\n",
      "Iteration 400/1500 loss 2.3028866573688105\n",
      "Iteration 500/1500 loss 2.302909228203982\n",
      "Iteration 600/1500 loss 2.3028697340659203\n",
      "Iteration 700/1500 loss 2.3028845642564626\n",
      "Iteration 800/1500 loss 2.302840072109469\n",
      "Iteration 900/1500 loss 2.302841623061601\n",
      "Iteration 1000/1500 loss 2.302871004563617\n",
      "Iteration 1100/1500 loss 2.3028830490261702\n",
      "Iteration 1200/1500 loss 2.302852876448143\n",
      "Iteration 1300/1500 loss 2.3028640163049623\n",
      "Iteration 1400/1500 loss 2.3028550816172024\n",
      "Iteration 0/1500 loss 2.456471346302446\n",
      "Iteration 100/1500 loss 2.4555948892414095\n",
      "Iteration 200/1500 loss 2.4547060160980294\n",
      "Iteration 300/1500 loss 2.453825948473442\n",
      "Iteration 400/1500 loss 2.4529934821664634\n",
      "Iteration 500/1500 loss 2.4522042365432566\n",
      "Iteration 600/1500 loss 2.4514125459530764\n",
      "Iteration 700/1500 loss 2.4505857712266677\n",
      "Iteration 800/1500 loss 2.449765820889606\n",
      "Iteration 900/1500 loss 2.449044568373395\n",
      "Iteration 1000/1500 loss 2.448275918036458\n",
      "Iteration 1100/1500 loss 2.4475241303290463\n",
      "Iteration 1200/1500 loss 2.4467881634289235\n",
      "Iteration 1300/1500 loss 2.4461052117241455\n",
      "Iteration 1400/1500 loss 2.445403161709062\n",
      "Iteration 0/1500 loss 2.610993227249987\n",
      "Iteration 100/1500 loss 2.6091697797692355\n",
      "Iteration 200/1500 loss 2.607411724301457\n",
      "Iteration 300/1500 loss 2.6057022461654666\n",
      "Iteration 400/1500 loss 2.6039802968390324\n",
      "Iteration 500/1500 loss 2.602329649775946\n",
      "Iteration 600/1500 loss 2.6007475716152304\n",
      "Iteration 700/1500 loss 2.5991111174374115\n",
      "Iteration 800/1500 loss 2.5975675267442075\n",
      "Iteration 900/1500 loss 2.596030848346829\n",
      "Iteration 1000/1500 loss 2.594498951289174\n",
      "Iteration 1100/1500 loss 2.593018383342242\n",
      "Iteration 1200/1500 loss 2.591571045723594\n",
      "Iteration 1300/1500 loss 2.5902216432237894\n",
      "Iteration 1400/1500 loss 2.5887402075250385\n",
      "Iteration 0/1500 loss 3.8430280576820364\n",
      "Iteration 100/1500 loss 3.757657753526043\n",
      "Iteration 200/1500 loss 3.677032536959044\n",
      "Iteration 300/1500 loss 3.600849369781235\n",
      "Iteration 400/1500 loss 3.5294935306753388\n",
      "Iteration 500/1500 loss 3.4648277044434153\n",
      "Iteration 600/1500 loss 3.4035622313970513\n",
      "Iteration 700/1500 loss 3.345523396984547\n",
      "Iteration 800/1500 loss 3.2914645934321642\n",
      "Iteration 900/1500 loss 3.241902413887529\n",
      "Iteration 1000/1500 loss 3.1947762906511117\n",
      "Iteration 1100/1500 loss 3.1500353682087097\n",
      "Iteration 1200/1500 loss 3.108614410561193\n",
      "Iteration 1300/1500 loss 3.0701810388982294\n",
      "Iteration 1400/1500 loss 3.033572780778945\n",
      "Iteration 0/1500 loss 5.3859971709634795\n",
      "Iteration 100/1500 loss 5.215093170891651\n",
      "Iteration 200/1500 loss 5.053646180686855\n",
      "Iteration 300/1500 loss 4.9012763421061045\n",
      "Iteration 400/1500 loss 4.758437901614306\n",
      "Iteration 500/1500 loss 4.6289829975360055\n",
      "Iteration 600/1500 loss 4.506297191334916\n",
      "Iteration 700/1500 loss 4.390169836194538\n",
      "Iteration 800/1500 loss 4.281993198712762\n",
      "Iteration 900/1500 loss 4.182713125347345\n",
      "Iteration 1000/1500 loss 4.088409044837196\n",
      "Iteration 1100/1500 loss 3.998859097185277\n",
      "Iteration 1200/1500 loss 3.9159892441940993\n",
      "Iteration 1300/1500 loss 3.8390551838175067\n",
      "Iteration 1400/1500 loss 3.765772181864195\n",
      "lr 3.000000e-07 reg 1.000000e-01 hidden_size 100 train accuracy: 0.112000 val accuracy: 0.118000\n",
      "lr 3.000000e-07 reg 1.000000e-01 hidden_size 200 train accuracy: 0.122694 val accuracy: 0.101000\n",
      "lr 3.000000e-07 reg 1.000000e+02 hidden_size 100 train accuracy: 0.138061 val accuracy: 0.138000\n",
      "lr 3.000000e-07 reg 1.000000e+02 hidden_size 200 train accuracy: 0.129551 val accuracy: 0.141000\n",
      "lr 3.000000e-07 reg 1.000000e+03 hidden_size 100 train accuracy: 0.088551 val accuracy: 0.085000\n",
      "lr 3.000000e-07 reg 1.000000e+03 hidden_size 200 train accuracy: 0.112959 val accuracy: 0.120000\n",
      "lr 1.000000e-05 reg 1.000000e-01 hidden_size 100 train accuracy: 0.197796 val accuracy: 0.220000\n",
      "lr 1.000000e-05 reg 1.000000e-01 hidden_size 200 train accuracy: 0.202531 val accuracy: 0.214000\n",
      "lr 1.000000e-05 reg 1.000000e+02 hidden_size 100 train accuracy: 0.220714 val accuracy: 0.230000\n",
      "lr 1.000000e-05 reg 1.000000e+02 hidden_size 200 train accuracy: 0.211082 val accuracy: 0.214000\n",
      "lr 1.000000e-05 reg 1.000000e+03 hidden_size 100 train accuracy: 0.100041 val accuracy: 0.098000\n",
      "lr 1.000000e-05 reg 1.000000e+03 hidden_size 200 train accuracy: 0.100449 val accuracy: 0.078000\n",
      "best validation accuracy achieved during cross-validation: 0.230000\n"
     ]
    }
   ],
   "source": [
    "best_net = None \n",
    "results = {}\n",
    "best_val = -1\n",
    "hidden = [100, 200]\n",
    "learning_rates = [1e-5, 3e-7]\n",
    "regularization_strengths = [1e-1, 1e2, 1e3]\n",
    "\n",
    "for lr in learning_rates:\n",
    "    for reg in regularization_strengths:\n",
    "        for hidden_size in hidden:\n",
    "            net = NeuralNet(input_size, hidden_size, num_classes)\n",
    "            stats = net.train(X_train, y_train, X_val, y_val, learning_rate=lr, reg=reg, \n",
    "                          epochs=1500,verbose=True)\n",
    "            y_train_pred = net.predict(X_train)\n",
    "            y_val_pred = net.predict(X_val)\n",
    "            acc_train = np.mean(y_train_pred == y_train)\n",
    "            acc_val = np.mean(y_val_pred == y_val)\n",
    "            results[(lr, reg, hidden_size)] = (acc_train, acc_val)\n",
    "\n",
    "            if acc_val > best_val:\n",
    "                best_val = acc_val\n",
    "                best_net = net\n",
    "    \n",
    "for lr, reg, hid in sorted(results):\n",
    "    train_accuracy, val_accuracy = results[(lr, reg, hid)]\n",
    "    print('lr %e reg %e hidden_size %d train accuracy: %f val accuracy: %f' % (\n",
    "                lr, reg,hid, train_accuracy, val_accuracy))\n",
    "    \n",
    "print('best validation accuracy achieved during cross-validation: %f' % best_val)\n",
    "\n",
    "\n"
   ]
  },
  {
   "cell_type": "code",
   "execution_count": null,
   "metadata": {
    "collapsed": true
   },
   "outputs": [],
   "source": []
  }
 ],
 "metadata": {
  "kernelspec": {
   "display_name": "Python 3",
   "language": "python",
   "name": "python3"
  },
  "language_info": {
   "codemirror_mode": {
    "name": "ipython",
    "version": 3
   },
   "file_extension": ".py",
   "mimetype": "text/x-python",
   "name": "python",
   "nbconvert_exporter": "python",
   "pygments_lexer": "ipython3",
   "version": "3.5.2"
  }
 },
 "nbformat": 4,
 "nbformat_minor": 2
}
